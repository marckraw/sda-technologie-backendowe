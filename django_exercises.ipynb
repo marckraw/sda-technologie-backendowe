{
 "cells": [
  {
   "cell_type": "code",
   "execution_count": 1,
   "id": "3a6b0ed8",
   "metadata": {},
   "outputs": [],
   "source": [
    "import os\n",
    "os.environ[\"DJANGO_ALLOW_ASYNC_UNSAFE\"] = \"true\""
   ]
  },
  {
   "cell_type": "code",
   "execution_count": 2,
   "id": "bc272a42",
   "metadata": {},
   "outputs": [],
   "source": [
    "from polls.models import Answer, Poll, Question"
   ]
  },
  {
   "cell_type": "code",
   "execution_count": 30,
   "id": "b1a4dbf7",
   "metadata": {},
   "outputs": [
    {
     "data": {
      "text/plain": [
       "<QuerySet [<Poll: Poll object (1)>, <Poll: Poll object (2)>, <Poll: Poll object (3)>, <Poll: Poll object (4)>]>"
      ]
     },
     "execution_count": 30,
     "metadata": {},
     "output_type": "execute_result"
    }
   ],
   "source": [
    "Poll.objects.all()"
   ]
  },
  {
   "cell_type": "code",
   "execution_count": 15,
   "id": "53a1378f",
   "metadata": {},
   "outputs": [
    {
     "data": {
      "text/plain": [
       "<Poll: Poll object (1)>"
      ]
     },
     "execution_count": 15,
     "metadata": {},
     "output_type": "execute_result"
    }
   ],
   "source": [
    "Poll.objects.create(name=\"My First Poll\")"
   ]
  },
  {
   "cell_type": "code",
   "execution_count": 29,
   "id": "7fea52cf",
   "metadata": {},
   "outputs": [],
   "source": [
    "poll=Poll(name=\"Second Poll\")\n",
    "poll.save()"
   ]
  },
  {
   "cell_type": "code",
   "execution_count": 40,
   "id": "baa25c65",
   "metadata": {},
   "outputs": [],
   "source": [
    "p = Poll.objects.get(id=4)"
   ]
  },
  {
   "cell_type": "code",
   "execution_count": 43,
   "id": "2d5df65f",
   "metadata": {},
   "outputs": [],
   "source": [
    "p.name = \"Fourth Poll\"\n",
    "p.save(update_fields=[\"name\"])"
   ]
  },
  {
   "cell_type": "code",
   "execution_count": 32,
   "id": "ad3d3e5a",
   "metadata": {},
   "outputs": [
    {
     "data": {
      "text/plain": [
       "<QuerySet [<Poll: Poll object (2)>, <Poll: Poll object (4)>]>"
      ]
     },
     "execution_count": 32,
     "metadata": {},
     "output_type": "execute_result"
    }
   ],
   "source": [
    "Poll.objects.filter(name=\"Second Poll\")"
   ]
  },
  {
   "cell_type": "code",
   "execution_count": 49,
   "id": "36d38dff",
   "metadata": {},
   "outputs": [
    {
     "data": {
      "text/plain": [
       "<QuerySet [<Poll: Poll object (1)>, <Poll: Poll object (2)>, <Poll: Poll object (3)>, <Poll: Poll object (4)>]>"
      ]
     },
     "execution_count": 49,
     "metadata": {},
     "output_type": "execute_result"
    }
   ],
   "source": [
    "Poll.objects.filter(name__endswith=\"Poll\")"
   ]
  },
  {
   "cell_type": "code",
   "execution_count": 51,
   "id": "4ec79723",
   "metadata": {},
   "outputs": [
    {
     "data": {
      "text/plain": [
       "<QuerySet [<Poll: Poll object (1)>, <Poll: Poll object (2)>]>"
      ]
     },
     "execution_count": 51,
     "metadata": {},
     "output_type": "execute_result"
    }
   ],
   "source": [
    "Poll.objects.filter(id__lte=2)"
   ]
  },
  {
   "cell_type": "code",
   "execution_count": 5,
   "id": "390a68ba",
   "metadata": {},
   "outputs": [
    {
     "data": {
      "text/plain": [
       "<Question: Question object (3)>"
      ]
     },
     "execution_count": 5,
     "metadata": {},
     "output_type": "execute_result"
    }
   ],
   "source": [
    "Question.objects.create(question_text=\"Do you like python?\")"
   ]
  },
  {
   "cell_type": "code",
   "execution_count": 14,
   "id": "37e414dc",
   "metadata": {},
   "outputs": [],
   "source": [
    "q = Question.objects.get(id=2)"
   ]
  },
  {
   "cell_type": "code",
   "execution_count": 15,
   "id": "14406244",
   "metadata": {},
   "outputs": [
    {
     "data": {
      "text/plain": [
       "'Are you sad?'"
      ]
     },
     "execution_count": 15,
     "metadata": {},
     "output_type": "execute_result"
    }
   ],
   "source": [
    "q.question_text"
   ]
  },
  {
   "cell_type": "code",
   "execution_count": 12,
   "id": "59254360",
   "metadata": {},
   "outputs": [],
   "source": [
    "q.question_text=\"Are you sad?\"\n",
    "q.save()"
   ]
  },
  {
   "cell_type": "code",
   "execution_count": 16,
   "id": "2f45c50c",
   "metadata": {},
   "outputs": [
    {
     "data": {
      "text/plain": [
       "<QuerySet [<Question: Question object (3)>]>"
      ]
     },
     "execution_count": 16,
     "metadata": {},
     "output_type": "execute_result"
    }
   ],
   "source": [
    "Question.objects.filter(id__gt=2)"
   ]
  },
  {
   "cell_type": "code",
   "execution_count": 3,
   "id": "73459e55",
   "metadata": {},
   "outputs": [],
   "source": [
    "p = Poll.objects.first()"
   ]
  },
  {
   "cell_type": "code",
   "execution_count": 3,
   "id": "7a6c9070",
   "metadata": {},
   "outputs": [],
   "source": [
    "q = Question.objects.first()"
   ]
  },
  {
   "cell_type": "code",
   "execution_count": 5,
   "id": "d2227e2a",
   "metadata": {},
   "outputs": [],
   "source": [
    "q.poll = p\n",
    "q.save()"
   ]
  },
  {
   "cell_type": "code",
   "execution_count": 9,
   "id": "ecb887a8",
   "metadata": {},
   "outputs": [
    {
     "data": {
      "text/plain": [
       "1"
      ]
     },
     "execution_count": 9,
     "metadata": {},
     "output_type": "execute_result"
    }
   ],
   "source": [
    "q.poll.id"
   ]
  },
  {
   "cell_type": "code",
   "execution_count": 10,
   "id": "1683e071",
   "metadata": {},
   "outputs": [
    {
     "data": {
      "text/plain": [
       "<Question: Question object (4)>"
      ]
     },
     "execution_count": 10,
     "metadata": {},
     "output_type": "execute_result"
    }
   ],
   "source": [
    "Question.objects.create(question_text=\"Is red pretty?\", poll=p)"
   ]
  },
  {
   "cell_type": "code",
   "execution_count": 11,
   "id": "8f42dca4",
   "metadata": {},
   "outputs": [
    {
     "data": {
      "text/plain": [
       "<QuerySet [<Question: Question object (1)>, <Question: Question object (4)>]>"
      ]
     },
     "execution_count": 11,
     "metadata": {},
     "output_type": "execute_result"
    }
   ],
   "source": [
    "Question.objects.filter(poll=p)"
   ]
  },
  {
   "cell_type": "code",
   "execution_count": 6,
   "id": "9aaf5a86",
   "metadata": {
    "scrolled": true
   },
   "outputs": [
    {
     "data": {
      "text/plain": [
       "<QuerySet [<Question: Question object (1)>, <Question: Question object (4)>]>"
      ]
     },
     "execution_count": 6,
     "metadata": {},
     "output_type": "execute_result"
    }
   ],
   "source": [
    "Question.objects.filter(poll=1)"
   ]
  },
  {
   "cell_type": "code",
   "execution_count": 7,
   "id": "09c91262",
   "metadata": {},
   "outputs": [
    {
     "data": {
      "text/plain": [
       "<QuerySet [<Question: Question object (1)>, <Question: Question object (4)>]>"
      ]
     },
     "execution_count": 7,
     "metadata": {},
     "output_type": "execute_result"
    }
   ],
   "source": [
    "Question.objects.filter(poll_id=1)"
   ]
  },
  {
   "cell_type": "code",
   "execution_count": 23,
   "id": "fad952f8",
   "metadata": {},
   "outputs": [
    {
     "data": {
      "text/plain": [
       "<QuerySet [<Question: Question object (1)>, <Question: Question object (4)>]>"
      ]
     },
     "execution_count": 23,
     "metadata": {},
     "output_type": "execute_result"
    }
   ],
   "source": [
    "Question.objects.filter(poll__name__startswith=\"M\", poll=1)"
   ]
  },
  {
   "cell_type": "code",
   "execution_count": 5,
   "id": "82150dc3",
   "metadata": {},
   "outputs": [
    {
     "data": {
      "text/plain": [
       "<QuerySet [<Question: Question object (1)>, <Question: Question object (4)>]>"
      ]
     },
     "execution_count": 5,
     "metadata": {},
     "output_type": "execute_result"
    }
   ],
   "source": [
    "p.questions.filter()"
   ]
  },
  {
   "cell_type": "code",
   "execution_count": 25,
   "id": "4bba4443",
   "metadata": {},
   "outputs": [
    {
     "data": {
      "text/plain": [
       "4"
      ]
     },
     "execution_count": 25,
     "metadata": {},
     "output_type": "execute_result"
    }
   ],
   "source": [
    "len(Question.objects.all())"
   ]
  },
  {
   "cell_type": "code",
   "execution_count": 26,
   "id": "54f8974d",
   "metadata": {},
   "outputs": [
    {
     "data": {
      "text/plain": [
       "4"
      ]
     },
     "execution_count": 26,
     "metadata": {},
     "output_type": "execute_result"
    }
   ],
   "source": [
    "Question.objects.count()"
   ]
  },
  {
   "cell_type": "code",
   "execution_count": 31,
   "id": "44023ea3",
   "metadata": {},
   "outputs": [
    {
     "data": {
      "text/plain": [
       "<QuerySet [<Poll: Poll object (1)>]>"
      ]
     },
     "execution_count": 31,
     "metadata": {},
     "output_type": "execute_result"
    }
   ],
   "source": []
  },
  {
   "cell_type": "code",
   "execution_count": 40,
   "id": "520d7488",
   "metadata": {
    "scrolled": false
   },
   "outputs": [
    {
     "data": {
      "text/plain": [
       "<QuerySet [<Poll: Poll object (1)>]>"
      ]
     },
     "execution_count": 40,
     "metadata": {},
     "output_type": "execute_result"
    }
   ],
   "source": []
  },
  {
   "cell_type": "code",
   "execution_count": 29,
   "id": "e3a51ed1",
   "metadata": {},
   "outputs": [
    {
     "name": "stdout",
     "output_type": "stream",
     "text": [
      "Is red pretty?\n",
      "Do you like python?\n",
      "Do you like me?\n",
      "Are you sad?\n"
     ]
    }
   ],
   "source": [
    "for q in Question.objects.order_by(\"-question_text\"):\n",
    "    print(q.question_text)"
   ]
  },
  {
   "cell_type": "code",
   "execution_count": 6,
   "id": "854520fc",
   "metadata": {},
   "outputs": [],
   "source": [
    "q = Question.objects.last()"
   ]
  },
  {
   "cell_type": "code",
   "execution_count": 8,
   "id": "5d1988dc",
   "metadata": {},
   "outputs": [
    {
     "data": {
      "text/plain": [
       "<Answer: Answer object (4)>"
      ]
     },
     "execution_count": 8,
     "metadata": {},
     "output_type": "execute_result"
    }
   ],
   "source": [
    "Answer.objects.create(answer_text=\"Yes\", question=q)"
   ]
  },
  {
   "cell_type": "code",
   "execution_count": 12,
   "id": "4ff453f6",
   "metadata": {},
   "outputs": [],
   "source": [
    "a = Answer.objects.first()"
   ]
  },
  {
   "cell_type": "code",
   "execution_count": 13,
   "id": "d40eeaf7",
   "metadata": {},
   "outputs": [
    {
     "data": {
      "text/plain": [
       "<Poll: Poll object (1)>"
      ]
     },
     "execution_count": 13,
     "metadata": {},
     "output_type": "execute_result"
    }
   ],
   "source": [
    "a.question.poll"
   ]
  },
  {
   "cell_type": "code",
   "execution_count": 15,
   "id": "01d2eb6f",
   "metadata": {},
   "outputs": [
    {
     "data": {
      "text/plain": [
       "<QuerySet [<Question: Question object (1)>, <Question: Question object (4)>]>"
      ]
     },
     "execution_count": 15,
     "metadata": {},
     "output_type": "execute_result"
    }
   ],
   "source": [
    "Question.objects.filter(answers__isnull=False).distinct()"
   ]
  },
  {
   "cell_type": "code",
   "execution_count": 16,
   "id": "8869ec44",
   "metadata": {},
   "outputs": [
    {
     "data": {
      "text/plain": [
       "<QuerySet [<Question: Question object (1)>, <Question: Question object (4)>]>"
      ]
     },
     "execution_count": 16,
     "metadata": {},
     "output_type": "execute_result"
    }
   ],
   "source": [
    "Question.objects.exclude(answers=None)"
   ]
  },
  {
   "cell_type": "code",
   "execution_count": 19,
   "id": "e9b3dfcc",
   "metadata": {},
   "outputs": [
    {
     "data": {
      "text/plain": [
       "(10, {'polls.Answer': 4, 'polls.Poll': 4, 'polls.Question': 2})"
      ]
     },
     "execution_count": 19,
     "metadata": {},
     "output_type": "execute_result"
    }
   ],
   "source": [
    "Poll.objects.all().delete()"
   ]
  }
 ],
 "metadata": {
  "kernelspec": {
   "display_name": "Django Shell-Plus",
   "language": "python",
   "name": "django_extensions"
  },
  "language_info": {
   "codemirror_mode": {
    "name": "ipython",
    "version": 3
   },
   "file_extension": ".py",
   "mimetype": "text/x-python",
   "name": "python",
   "nbconvert_exporter": "python",
   "pygments_lexer": "ipython3",
   "version": "3.9.12"
  }
 },
 "nbformat": 4,
 "nbformat_minor": 5
}
