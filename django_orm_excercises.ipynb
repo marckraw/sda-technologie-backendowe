{
 "cells": [
  {
   "cell_type": "code",
   "execution_count": 2,
   "id": "6ec64b29",
   "metadata": {},
   "outputs": [],
   "source": [
    "import os\n",
    "os.environ[\"DJANGO_ALLOW_ASYNC_UNSAFE\"] = \"true\""
   ]
  },
  {
   "cell_type": "code",
   "execution_count": 33,
   "id": "e8f0baa5",
   "metadata": {},
   "outputs": [],
   "source": [
    "from polls.models import Poll, Question, Answer"
   ]
  },
  {
   "cell_type": "code",
   "execution_count": 4,
   "id": "3fa06320",
   "metadata": {
    "scrolled": true
   },
   "outputs": [
    {
     "data": {
      "text/plain": [
       "<QuerySet [<Poll: Poll object (1)>, <Poll: Poll object (2)>, <Poll: Poll object (3)>, <Poll: Poll object (4)>, <Poll: Poll object (5)>, <Poll: Poll object (6)>]>"
      ]
     },
     "execution_count": 4,
     "metadata": {},
     "output_type": "execute_result"
    }
   ],
   "source": [
    "Poll.objects.all()"
   ]
  },
  {
   "cell_type": "code",
   "execution_count": 5,
   "id": "60287f68",
   "metadata": {},
   "outputs": [
    {
     "data": {
      "text/plain": [
       "<Poll: Poll object (7)>"
      ]
     },
     "execution_count": 5,
     "metadata": {},
     "output_type": "execute_result"
    }
   ],
   "source": [
    "Poll.objects.create()"
   ]
  },
  {
   "cell_type": "code",
   "execution_count": 6,
   "id": "41d5ffa0",
   "metadata": {},
   "outputs": [
    {
     "data": {
      "text/plain": [
       "<Poll: Poll object (8)>"
      ]
     },
     "execution_count": 6,
     "metadata": {},
     "output_type": "execute_result"
    }
   ],
   "source": [
    "Poll.objects.create(name=\"My First Poll\")"
   ]
  },
  {
   "cell_type": "code",
   "execution_count": 7,
   "id": "9e2b63e6",
   "metadata": {},
   "outputs": [],
   "source": [
    "poll=Poll(name=\"Second Poll\")\n",
    "poll.save()"
   ]
  },
  {
   "cell_type": "code",
   "execution_count": 8,
   "id": "fff8931b",
   "metadata": {
    "scrolled": true
   },
   "outputs": [
    {
     "name": "stdout",
     "output_type": "stream",
     "text": [
      "SELECT \"polls_poll\".\"id\", \"polls_poll\".\"name\" FROM \"polls_poll\"\n"
     ]
    }
   ],
   "source": [
    "print(Poll.objects.all().query)"
   ]
  },
  {
   "cell_type": "code",
   "execution_count": 9,
   "id": "701b6dfc",
   "metadata": {
    "scrolled": true
   },
   "outputs": [
    {
     "name": "stdout",
     "output_type": "stream",
     "text": [
      "[{'sql': 'SELECT \"polls_poll\".\"id\", \"polls_poll\".\"name\" FROM \"polls_poll\" LIMIT 21', 'time': '0.001'}, {'sql': 'INSERT INTO \"polls_poll\" (\"name\") SELECT \\'\\' RETURNING \"polls_poll\".\"id\"', 'time': '0.003'}, {'sql': 'INSERT INTO \"polls_poll\" (\"name\") SELECT \\'My First Poll\\' RETURNING \"polls_poll\".\"id\"', 'time': '0.002'}, {'sql': 'INSERT INTO \"polls_poll\" (\"name\") SELECT \\'Second Poll\\' RETURNING \"polls_poll\".\"id\"', 'time': '0.002'}]\n"
     ]
    }
   ],
   "source": [
    "from django.db import connection\n",
    "print(connection.queries)"
   ]
  },
  {
   "cell_type": "code",
   "execution_count": 10,
   "id": "3f4a51f7",
   "metadata": {
    "scrolled": true
   },
   "outputs": [
    {
     "ename": "MultipleObjectsReturned",
     "evalue": "get() returned more than one Poll -- it returned 2!",
     "output_type": "error",
     "traceback": [
      "\u001b[0;31m---------------------------------------------------------------------------\u001b[0m",
      "\u001b[0;31mMultipleObjectsReturned\u001b[0m                   Traceback (most recent call last)",
      "Input \u001b[0;32mIn [10]\u001b[0m, in \u001b[0;36m<cell line: 1>\u001b[0;34m()\u001b[0m\n\u001b[0;32m----> 1\u001b[0m \u001b[43mPoll\u001b[49m\u001b[38;5;241;43m.\u001b[39;49m\u001b[43mobjects\u001b[49m\u001b[38;5;241;43m.\u001b[39;49m\u001b[43mget\u001b[49m\u001b[43m(\u001b[49m\u001b[43mname\u001b[49m\u001b[38;5;241;43m=\u001b[39;49m\u001b[38;5;124;43m\"\u001b[39;49m\u001b[38;5;124;43mSecond Poll\u001b[39;49m\u001b[38;5;124;43m\"\u001b[39;49m\u001b[43m)\u001b[49m\n",
      "File \u001b[0;32m/Library/Frameworks/Python.framework/Versions/3.10/lib/python3.10/site-packages/django/db/models/manager.py:85\u001b[0m, in \u001b[0;36mBaseManager._get_queryset_methods.<locals>.create_method.<locals>.manager_method\u001b[0;34m(self, *args, **kwargs)\u001b[0m\n\u001b[1;32m     84\u001b[0m \u001b[38;5;28;01mdef\u001b[39;00m \u001b[38;5;21mmanager_method\u001b[39m(\u001b[38;5;28mself\u001b[39m, \u001b[38;5;241m*\u001b[39margs, \u001b[38;5;241m*\u001b[39m\u001b[38;5;241m*\u001b[39mkwargs):\n\u001b[0;32m---> 85\u001b[0m     \u001b[38;5;28;01mreturn\u001b[39;00m \u001b[38;5;28;43mgetattr\u001b[39;49m\u001b[43m(\u001b[49m\u001b[38;5;28;43mself\u001b[39;49m\u001b[38;5;241;43m.\u001b[39;49m\u001b[43mget_queryset\u001b[49m\u001b[43m(\u001b[49m\u001b[43m)\u001b[49m\u001b[43m,\u001b[49m\u001b[43m \u001b[49m\u001b[43mname\u001b[49m\u001b[43m)\u001b[49m\u001b[43m(\u001b[49m\u001b[38;5;241;43m*\u001b[39;49m\u001b[43margs\u001b[49m\u001b[43m,\u001b[49m\u001b[43m \u001b[49m\u001b[38;5;241;43m*\u001b[39;49m\u001b[38;5;241;43m*\u001b[39;49m\u001b[43mkwargs\u001b[49m\u001b[43m)\u001b[49m\n",
      "File \u001b[0;32m/Library/Frameworks/Python.framework/Versions/3.10/lib/python3.10/site-packages/django/db/models/query.py:499\u001b[0m, in \u001b[0;36mQuerySet.get\u001b[0;34m(self, *args, **kwargs)\u001b[0m\n\u001b[1;32m    495\u001b[0m \u001b[38;5;28;01mif\u001b[39;00m \u001b[38;5;129;01mnot\u001b[39;00m num:\n\u001b[1;32m    496\u001b[0m     \u001b[38;5;28;01mraise\u001b[39;00m \u001b[38;5;28mself\u001b[39m\u001b[38;5;241m.\u001b[39mmodel\u001b[38;5;241m.\u001b[39mDoesNotExist(\n\u001b[1;32m    497\u001b[0m         \u001b[38;5;124m\"\u001b[39m\u001b[38;5;132;01m%s\u001b[39;00m\u001b[38;5;124m matching query does not exist.\u001b[39m\u001b[38;5;124m\"\u001b[39m \u001b[38;5;241m%\u001b[39m \u001b[38;5;28mself\u001b[39m\u001b[38;5;241m.\u001b[39mmodel\u001b[38;5;241m.\u001b[39m_meta\u001b[38;5;241m.\u001b[39mobject_name\n\u001b[1;32m    498\u001b[0m     )\n\u001b[0;32m--> 499\u001b[0m \u001b[38;5;28;01mraise\u001b[39;00m \u001b[38;5;28mself\u001b[39m\u001b[38;5;241m.\u001b[39mmodel\u001b[38;5;241m.\u001b[39mMultipleObjectsReturned(\n\u001b[1;32m    500\u001b[0m     \u001b[38;5;124m\"\u001b[39m\u001b[38;5;124mget() returned more than one \u001b[39m\u001b[38;5;132;01m%s\u001b[39;00m\u001b[38;5;124m -- it returned \u001b[39m\u001b[38;5;132;01m%s\u001b[39;00m\u001b[38;5;124m!\u001b[39m\u001b[38;5;124m\"\u001b[39m\n\u001b[1;32m    501\u001b[0m     \u001b[38;5;241m%\u001b[39m (\n\u001b[1;32m    502\u001b[0m         \u001b[38;5;28mself\u001b[39m\u001b[38;5;241m.\u001b[39mmodel\u001b[38;5;241m.\u001b[39m_meta\u001b[38;5;241m.\u001b[39mobject_name,\n\u001b[1;32m    503\u001b[0m         num \u001b[38;5;28;01mif\u001b[39;00m \u001b[38;5;129;01mnot\u001b[39;00m limit \u001b[38;5;129;01mor\u001b[39;00m num \u001b[38;5;241m<\u001b[39m limit \u001b[38;5;28;01melse\u001b[39;00m \u001b[38;5;124m\"\u001b[39m\u001b[38;5;124mmore than \u001b[39m\u001b[38;5;132;01m%s\u001b[39;00m\u001b[38;5;124m\"\u001b[39m \u001b[38;5;241m%\u001b[39m (limit \u001b[38;5;241m-\u001b[39m \u001b[38;5;241m1\u001b[39m),\n\u001b[1;32m    504\u001b[0m     )\n\u001b[1;32m    505\u001b[0m )\n",
      "\u001b[0;31mMultipleObjectsReturned\u001b[0m: get() returned more than one Poll -- it returned 2!"
     ]
    }
   ],
   "source": [
    "Poll.objects.get(name=\"Second Poll\")"
   ]
  },
  {
   "cell_type": "code",
   "execution_count": null,
   "id": "2004f246",
   "metadata": {
    "scrolled": true
   },
   "outputs": [],
   "source": [
    "Poll.objects.filter(name=\"Second Poll\")"
   ]
  },
  {
   "cell_type": "code",
   "execution_count": null,
   "id": "469b1ddc",
   "metadata": {
    "scrolled": false
   },
   "outputs": [],
   "source": [
    "p.name"
   ]
  },
  {
   "cell_type": "code",
   "execution_count": null,
   "id": "39970eb7",
   "metadata": {},
   "outputs": [],
   "source": []
  },
  {
   "cell_type": "code",
   "execution_count": 11,
   "id": "d9068b36",
   "metadata": {
    "scrolled": true
   },
   "outputs": [
    {
     "ename": "NameError",
     "evalue": "name 'p' is not defined",
     "output_type": "error",
     "traceback": [
      "\u001b[0;31m---------------------------------------------------------------------------\u001b[0m",
      "\u001b[0;31mNameError\u001b[0m                                 Traceback (most recent call last)",
      "Input \u001b[0;32mIn [11]\u001b[0m, in \u001b[0;36m<cell line: 1>\u001b[0;34m()\u001b[0m\n\u001b[0;32m----> 1\u001b[0m \u001b[38;5;28mvars\u001b[39m(\u001b[43mp\u001b[49m)\n",
      "\u001b[0;31mNameError\u001b[0m: name 'p' is not defined"
     ]
    }
   ],
   "source": [
    "vars(p)"
   ]
  },
  {
   "cell_type": "code",
   "execution_count": 12,
   "id": "241ed3d1",
   "metadata": {},
   "outputs": [
    {
     "data": {
      "text/plain": [
       "'Fourth Poll'"
      ]
     },
     "execution_count": 12,
     "metadata": {},
     "output_type": "execute_result"
    }
   ],
   "source": [
    "p = Poll.objects.get(id=4)\n",
    "p.name"
   ]
  },
  {
   "cell_type": "code",
   "execution_count": 13,
   "id": "6639d55d",
   "metadata": {},
   "outputs": [],
   "source": [
    "p.name = \"Fourth Poll\"\n",
    "p.save()"
   ]
  },
  {
   "cell_type": "code",
   "execution_count": 14,
   "id": "3b53bcb2",
   "metadata": {
    "scrolled": true
   },
   "outputs": [
    {
     "data": {
      "text/plain": [
       "<QuerySet [<Poll: Poll object (3)>, <Poll: Poll object (9)>]>"
      ]
     },
     "execution_count": 14,
     "metadata": {},
     "output_type": "execute_result"
    }
   ],
   "source": [
    "Poll.objects.filter(name=\"Second Poll\")"
   ]
  },
  {
   "cell_type": "code",
   "execution_count": 15,
   "id": "3fa17c43",
   "metadata": {},
   "outputs": [
    {
     "data": {
      "text/plain": [
       "<QuerySet [<Poll: Poll object (3)>, <Poll: Poll object (9)>]>"
      ]
     },
     "execution_count": 15,
     "metadata": {},
     "output_type": "execute_result"
    }
   ],
   "source": [
    "Poll.objects.filter(name__startswith=\"S\")"
   ]
  },
  {
   "cell_type": "code",
   "execution_count": 16,
   "id": "0e08e6a3",
   "metadata": {
    "scrolled": true
   },
   "outputs": [
    {
     "data": {
      "text/plain": [
       "<QuerySet [<Poll: Poll object (2)>, <Poll: Poll object (3)>, <Poll: Poll object (4)>, <Poll: Poll object (5)>, <Poll: Poll object (6)>, <Poll: Poll object (8)>, <Poll: Poll object (9)>]>"
      ]
     },
     "execution_count": 16,
     "metadata": {},
     "output_type": "execute_result"
    }
   ],
   "source": [
    "Poll.objects.filter(name__endswith=\"l\")"
   ]
  },
  {
   "cell_type": "code",
   "execution_count": 17,
   "id": "2a4fa038",
   "metadata": {},
   "outputs": [
    {
     "data": {
      "text/plain": [
       "<QuerySet [<Poll: Poll object (2)>, <Poll: Poll object (3)>, <Poll: Poll object (4)>, <Poll: Poll object (5)>, <Poll: Poll object (6)>, <Poll: Poll object (7)>, <Poll: Poll object (8)>, <Poll: Poll object (9)>]>"
      ]
     },
     "execution_count": 17,
     "metadata": {},
     "output_type": "execute_result"
    }
   ],
   "source": [
    "Poll.objects.filter(id__gte=2)"
   ]
  },
  {
   "cell_type": "code",
   "execution_count": 18,
   "id": "dcccc3ce",
   "metadata": {},
   "outputs": [],
   "source": [
    "from polls.models import Question"
   ]
  },
  {
   "cell_type": "code",
   "execution_count": 19,
   "id": "3e2982d6",
   "metadata": {},
   "outputs": [
    {
     "data": {
      "text/plain": [
       "<Question: Question object (15)>"
      ]
     },
     "execution_count": 19,
     "metadata": {},
     "output_type": "execute_result"
    }
   ],
   "source": [
    "Question.objects.create(question_text=\"This is question\", pub_date=\"2022-05-14 14:30:00\")"
   ]
  },
  {
   "cell_type": "code",
   "execution_count": 20,
   "id": "d421d511",
   "metadata": {
    "scrolled": true
   },
   "outputs": [
    {
     "data": {
      "text/plain": [
       "<Question: Question object (16)>"
      ]
     },
     "execution_count": 20,
     "metadata": {},
     "output_type": "execute_result"
    }
   ],
   "source": [
    "Question.objects.create(question_text=\"This is second question\", pub_date=\"2022-05-14 15:30:00\")"
   ]
  },
  {
   "cell_type": "code",
   "execution_count": 21,
   "id": "37874916",
   "metadata": {},
   "outputs": [
    {
     "data": {
      "text/plain": [
       "<Question: Question object (17)>"
      ]
     },
     "execution_count": 21,
     "metadata": {},
     "output_type": "execute_result"
    }
   ],
   "source": [
    "Question.objects.create(question_text=\"This is third question\", pub_date=\"2022-05-14 14:30:00\")"
   ]
  },
  {
   "cell_type": "code",
   "execution_count": 22,
   "id": "b18d0cac",
   "metadata": {
    "scrolled": true
   },
   "outputs": [
    {
     "data": {
      "text/plain": [
       "<Question: Question object (18)>"
      ]
     },
     "execution_count": 22,
     "metadata": {},
     "output_type": "execute_result"
    }
   ],
   "source": [
    "Question.objects.create(question_text=\"This is question\", pub_date=\"2022-05-14 16:30:00\")"
   ]
  },
  {
   "cell_type": "code",
   "execution_count": 23,
   "id": "e2ab8f16",
   "metadata": {},
   "outputs": [],
   "source": [
    "q = Question.objects.get(id=2)\n",
    "q.question_text\n",
    "q.question_text = \"inny question\""
   ]
  },
  {
   "cell_type": "code",
   "execution_count": 24,
   "id": "98f555e9",
   "metadata": {},
   "outputs": [
    {
     "data": {
      "text/plain": [
       "'inny question'"
      ]
     },
     "execution_count": 24,
     "metadata": {},
     "output_type": "execute_result"
    }
   ],
   "source": [
    "q.question_text"
   ]
  },
  {
   "cell_type": "code",
   "execution_count": 25,
   "id": "f8e6bdfd",
   "metadata": {},
   "outputs": [
    {
     "data": {
      "text/plain": [
       "<QuerySet [<Question: Question object (3)>, <Question: Question object (4)>, <Question: Question object (5)>, <Question: Question object (6)>, <Question: Question object (7)>, <Question: Question object (8)>, <Question: Question object (9)>, <Question: Question object (10)>, <Question: Question object (11)>, <Question: Question object (12)>, <Question: Question object (13)>, <Question: Question object (14)>, <Question: Question object (15)>, <Question: Question object (16)>, <Question: Question object (17)>, <Question: Question object (18)>]>"
      ]
     },
     "execution_count": 25,
     "metadata": {},
     "output_type": "execute_result"
    }
   ],
   "source": [
    "Question.objects.filter(id__gt = 2)"
   ]
  },
  {
   "cell_type": "code",
   "execution_count": 26,
   "id": "6663fbdc",
   "metadata": {},
   "outputs": [],
   "source": [
    "p = Poll.objects.first()"
   ]
  },
  {
   "cell_type": "code",
   "execution_count": 27,
   "id": "a27d9186",
   "metadata": {},
   "outputs": [],
   "source": [
    "q = Question.objects.first()"
   ]
  },
  {
   "cell_type": "code",
   "execution_count": 28,
   "id": "898fae16",
   "metadata": {},
   "outputs": [],
   "source": [
    "q.poll = p\n",
    "q.save()"
   ]
  },
  {
   "cell_type": "code",
   "execution_count": 29,
   "id": "3ec60be0",
   "metadata": {},
   "outputs": [
    {
     "data": {
      "text/plain": [
       "1"
      ]
     },
     "execution_count": 29,
     "metadata": {},
     "output_type": "execute_result"
    }
   ],
   "source": [
    "q.poll.id"
   ]
  },
  {
   "cell_type": "code",
   "execution_count": 30,
   "id": "005f0638",
   "metadata": {},
   "outputs": [
    {
     "data": {
      "text/plain": [
       "<Question: Question object (19)>"
      ]
     },
     "execution_count": 30,
     "metadata": {},
     "output_type": "execute_result"
    }
   ],
   "source": [
    "Question.objects.create(question_text=\"Is red pretty?\", poll=p)"
   ]
  },
  {
   "cell_type": "code",
   "execution_count": 31,
   "id": "fbfa6d33",
   "metadata": {},
   "outputs": [
    {
     "data": {
      "text/plain": [
       "<QuerySet [<Question: Question object (1)>, <Question: Question object (9)>, <Question: Question object (14)>, <Question: Question object (19)>]>"
      ]
     },
     "execution_count": 31,
     "metadata": {},
     "output_type": "execute_result"
    }
   ],
   "source": [
    "Question.objects.filter(poll=p)"
   ]
  },
  {
   "cell_type": "code",
   "execution_count": 32,
   "id": "eae771e5",
   "metadata": {},
   "outputs": [
    {
     "data": {
      "text/plain": [
       "<QuerySet [<Question: Question object (1)>, <Question: Question object (9)>, <Question: Question object (14)>, <Question: Question object (19)>]>"
      ]
     },
     "execution_count": 32,
     "metadata": {},
     "output_type": "execute_result"
    }
   ],
   "source": [
    "p.questions.all()"
   ]
  },
  {
   "cell_type": "code",
   "execution_count": 46,
   "id": "132379cb",
   "metadata": {},
   "outputs": [
    {
     "data": {
      "text/plain": [
       "<Answer: Answer object (4)>"
      ]
     },
     "execution_count": 46,
     "metadata": {},
     "output_type": "execute_result"
    }
   ],
   "source": [
    "Answer.objects.create(answer_text=\"Yes\", question=q)"
   ]
  },
  {
   "cell_type": "code",
   "execution_count": 41,
   "id": "d5920997",
   "metadata": {},
   "outputs": [
    {
     "name": "stdout",
     "output_type": "stream",
     "text": [
      "This is third question\n",
      "This is third question\n",
      "This is third question\n",
      "This is second question\n",
      "This is second question\n",
      "This is second question\n",
      "This is second question\n",
      "This is question\n",
      "This is question\n",
      "This is question\n",
      "This is question\n",
      "This is question\n",
      "This is question\n",
      "This is question\n",
      "This is question\n",
      "This is question\n",
      "Is red pretty?\n",
      "Is red pretty?\n",
      "Is red pretty?\n"
     ]
    }
   ],
   "source": [
    "for q in Question.objects.order_by(\"-question_text\"):\n",
    "    print(q.question_text)\n",
    "                                "
   ]
  },
  {
   "cell_type": "code",
   "execution_count": 37,
   "id": "fbc50481",
   "metadata": {},
   "outputs": [
    {
     "name": "stdout",
     "output_type": "stream",
     "text": [
      "Question object (1)\n",
      "Question object (2)\n",
      "Question object (3)\n",
      "Question object (4)\n",
      "Question object (5)\n",
      "Question object (6)\n",
      "Question object (7)\n",
      "Question object (8)\n",
      "Question object (9)\n",
      "Question object (10)\n",
      "Question object (11)\n",
      "Question object (12)\n",
      "Question object (13)\n",
      "Question object (14)\n",
      "Question object (15)\n",
      "Question object (16)\n",
      "Question object (17)\n",
      "Question object (18)\n",
      "Question object (19)\n"
     ]
    }
   ],
   "source": [
    "for q in Question.objects.all():\n",
    "    print(q)\n",
    "    "
   ]
  },
  {
   "cell_type": "code",
   "execution_count": 39,
   "id": "ffb04f14",
   "metadata": {},
   "outputs": [
    {
     "data": {
      "text/plain": [
       "<Answer: Answer object (1)>"
      ]
     },
     "execution_count": 39,
     "metadata": {},
     "output_type": "execute_result"
    }
   ],
   "source": [
    "a = Answer.objects.first()\n",
    "a"
   ]
  },
  {
   "cell_type": "code",
   "execution_count": 40,
   "id": "667bbf4c",
   "metadata": {},
   "outputs": [
    {
     "data": {
      "text/plain": [
       "<Poll: Poll object (1)>"
      ]
     },
     "execution_count": 40,
     "metadata": {},
     "output_type": "execute_result"
    }
   ],
   "source": [
    "a.question.poll"
   ]
  },
  {
   "cell_type": "code",
   "execution_count": 48,
   "id": "4137d942",
   "metadata": {
    "scrolled": true
   },
   "outputs": [
    {
     "data": {
      "text/plain": [
       "<QuerySet [<Question: Question object (1)>, <Question: Question object (19)>]>"
      ]
     },
     "execution_count": 48,
     "metadata": {},
     "output_type": "execute_result"
    }
   ],
   "source": [
    "Question.objects.filter(answers__isnull=False).distinct()"
   ]
  },
  {
   "cell_type": "code",
   "execution_count": 51,
   "id": "c07d4f50",
   "metadata": {},
   "outputs": [
    {
     "data": {
      "text/plain": [
       "<QuerySet [<Question: Question object (1)>, <Question: Question object (19)>]>"
      ]
     },
     "execution_count": 51,
     "metadata": {},
     "output_type": "execute_result"
    }
   ],
   "source": [
    "Question.objects.exclude(answers=None)"
   ]
  }
 ],
 "metadata": {
  "kernelspec": {
   "display_name": "Django Shell-Plus",
   "language": "python",
   "name": "django_extensions"
  },
  "language_info": {
   "codemirror_mode": {
    "name": "ipython",
    "version": 3
   },
   "file_extension": ".py",
   "mimetype": "text/x-python",
   "name": "python",
   "nbconvert_exporter": "python",
   "pygments_lexer": "ipython3",
   "version": "3.10.4"
  }
 },
 "nbformat": 4,
 "nbformat_minor": 5
}
