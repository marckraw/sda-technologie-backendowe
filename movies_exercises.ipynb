{
 "cells": [
  {
   "cell_type": "code",
   "execution_count": 1,
   "id": "a2a6a4b4",
   "metadata": {},
   "outputs": [],
   "source": [
    "import os\n",
    "os.environ[\"DJANGO_ALLOW_ASYNC_UNSAFE\"] = \"true\""
   ]
  },
  {
   "cell_type": "code",
   "execution_count": 2,
   "id": "24e513e1",
   "metadata": {},
   "outputs": [],
   "source": [
    "from movies.models import Actor, Country, Movie, Oscar"
   ]
  },
  {
   "cell_type": "code",
   "execution_count": 4,
   "id": "8259c7a5",
   "metadata": {
    "scrolled": true
   },
   "outputs": [
    {
     "name": "stdout",
     "output_type": "stream",
     "text": [
      "Tomb Raider 0\n",
      "Jakiś Polski Film 1\n",
      "Troja 0\n",
      "Salt 0\n",
      "M jak Miłość 1\n"
     ]
    }
   ],
   "source": [
    "for movie in Movie.objects.all():\n",
    "    print(f\"{movie.title} {movie.oscars.count()}\")"
   ]
  },
  {
   "cell_type": "code",
   "execution_count": 5,
   "id": "c67faa41",
   "metadata": {},
   "outputs": [
    {
     "name": "stdout",
     "output_type": "stream",
     "text": [
      "Brad Pitt 1\n",
      "Angelina Jolie 2\n",
      "Małgorzata Kożuchowska 0\n",
      "Andrzej Grabowski 1\n",
      "Julia Wieniawa 0\n"
     ]
    }
   ],
   "source": [
    "for actor in Actor.objects.all():\n",
    "    print(f\"{actor} {actor.oscars.count()}\")"
   ]
  },
  {
   "cell_type": "code",
   "execution_count": 6,
   "id": "b9f40ca5",
   "metadata": {},
   "outputs": [
    {
     "data": {
      "text/plain": [
       "<QuerySet [<Movie: Tomb Raider>, <Movie: Troja>, <Movie: Salt>]>"
      ]
     },
     "execution_count": 6,
     "metadata": {},
     "output_type": "execute_result"
    }
   ],
   "source": [
    "Movie.objects.filter(country__iso_code=\"USA\")"
   ]
  },
  {
   "cell_type": "code",
   "execution_count": 7,
   "id": "8a982aa0",
   "metadata": {
    "scrolled": true
   },
   "outputs": [
    {
     "data": {
      "text/plain": [
       "<QuerySet [<Movie: Jakiś Polski Film>, <Movie: M jak Miłość>]>"
      ]
     },
     "execution_count": 7,
     "metadata": {},
     "output_type": "execute_result"
    }
   ],
   "source": [
    "Movie.objects.exclude(country__iso_code=\"USA\")"
   ]
  },
  {
   "cell_type": "code",
   "execution_count": 8,
   "id": "9b89ff53",
   "metadata": {},
   "outputs": [
    {
     "data": {
      "text/plain": [
       "<QuerySet [<Actor: Brad Pitt>, <Actor: Angelina Jolie>, <Actor: Małgorzata Kożuchowska>, <Actor: Andrzej Grabowski>]>"
      ]
     },
     "execution_count": 8,
     "metadata": {},
     "output_type": "execute_result"
    }
   ],
   "source": [
    "Actor.objects.filter(age__gt=30)"
   ]
  },
  {
   "cell_type": "code",
   "execution_count": 12,
   "id": "77609cef",
   "metadata": {
    "scrolled": true
   },
   "outputs": [
    {
     "name": "stdout",
     "output_type": "stream",
     "text": [
      "Andrzej Grabowski 60\n",
      "Brad Pitt 50\n",
      "Angelina Jolie 47\n",
      "Małgorzata Kożuchowska 40\n",
      "Julia Wieniawa 25\n"
     ]
    }
   ],
   "source": [
    "for actor in Actor.objects.order_by(\"-age\"):\n",
    "    print(f\"{actor} {actor.age}\")"
   ]
  }
 ],
 "metadata": {
  "kernelspec": {
   "display_name": "Django Shell-Plus",
   "language": "python",
   "name": "django_extensions"
  },
  "language_info": {
   "codemirror_mode": {
    "name": "ipython",
    "version": 3
   },
   "file_extension": ".py",
   "mimetype": "text/x-python",
   "name": "python",
   "nbconvert_exporter": "python",
   "pygments_lexer": "ipython3",
   "version": "3.9.12"
  }
 },
 "nbformat": 4,
 "nbformat_minor": 5
}
